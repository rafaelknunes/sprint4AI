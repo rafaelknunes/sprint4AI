{
 "cells": [
  {
   "cell_type": "markdown",
   "metadata": {},
   "source": [
    "# **Data Cleaning**\n",
    "\n",
    "Nesta etapa iremos fazer um pré-processamento dos dados, com algumas técnicas de limpeza e transformação iniciais.\n",
    "\n",
    "- Tratar nulos, descartando registros ausentes ou preenchendo com valores padrão.\n",
    "\n",
    "- Remover colunas desnecessárias para o projeto.\n",
    "\n",
    "- Transformar data em dia/mes/ano\n",
    "\n",
    "- Tratar registros duplicados\n"
   ]
  },
  {
   "cell_type": "markdown",
   "metadata": {},
   "source": [
    "---"
   ]
  },
  {
   "cell_type": "markdown",
   "metadata": {},
   "source": [
    "# # **Importando Pickle do Dataset Original**"
   ]
  },
  {
   "cell_type": "code",
   "execution_count": 15,
   "metadata": {},
   "outputs": [
    {
     "data": {
      "text/plain": [
       "(5141512, 18)"
      ]
     },
     "execution_count": 15,
     "metadata": {},
     "output_type": "execute_result"
    }
   ],
   "source": [
    "import pandas as pd\n",
    "\n",
    "df = pd.read_pickle('./pickle/df_original.pkl')\n",
    "\n",
    "df.shape"
   ]
  },
  {
   "cell_type": "markdown",
   "metadata": {},
   "source": [
    "--- \n",
    "\n",
    "# # **Visão Geral do Dataset**\n",
    "\n",
    "Abaixo, o resultado esperado:\n",
    "\n",
    "| Coluna                        | Tipo   | Qtd NAs  | Qtd Zeros | Qtd Únicos |\n",
    "|-------------------------------|--------|----------|-----------|------------|\n",
    "| Date received                  | object | 0        | 0         | 4534       |\n",
    "| Product                        | object | 0        | 0         | 21         |\n",
    "| Sub-product                    | object | 235292   | 0         | 86         |\n",
    "| Issue                          | object | 2        | 0         | 178        |\n",
    "| Sub-issue                      | object | 734775   | 0         | 272        |\n",
    "| Consumer complaint narrative   | object | 3334239  | 0         | 1474741    |\n",
    "| Company public response        | object | 2679237  | 0         | 11         |\n",
    "| Company                        | object | 0        | 0         | 7203       |\n",
    "| State                          | object | 45526    | 0         | 63         |\n",
    "| ZIP code                       | object | 30225    | 0         | 33623      |\n",
    "| Tags                           | object | 4659727  | 0         | 3          |\n",
    "| Consumer consent provided?     | object | 1025256  | 0         | 4          |\n",
    "| Submitted via                  | object | 0        | 0         | 7          |\n",
    "| Date sent to company           | object | 0        | 0         | 4483       |\n",
    "| Company response to consumer   | object | 14       | 0         | 8          |\n",
    "| Timely response?               | object | 0        | 0         | 2          |\n",
    "| Consumer disputed?             | object | 4373196  | 0         | 2          |\n",
    "| Complaint ID                   | int64  | 0        | 0         | 5141512    |\n"
   ]
  },
  {
   "cell_type": "code",
   "execution_count": 16,
   "metadata": {},
   "outputs": [
    {
     "data": {
      "text/html": [
       "<div>\n",
       "<style scoped>\n",
       "    .dataframe tbody tr th:only-of-type {\n",
       "        vertical-align: middle;\n",
       "    }\n",
       "\n",
       "    .dataframe tbody tr th {\n",
       "        vertical-align: top;\n",
       "    }\n",
       "\n",
       "    .dataframe thead th {\n",
       "        text-align: right;\n",
       "    }\n",
       "</style>\n",
       "<table border=\"1\" class=\"dataframe\">\n",
       "  <thead>\n",
       "    <tr style=\"text-align: right;\">\n",
       "      <th></th>\n",
       "      <th>Coluna</th>\n",
       "      <th>Tipo</th>\n",
       "      <th>Qtd NAs</th>\n",
       "      <th>Qtd Zeros</th>\n",
       "      <th>Qtd Únicos</th>\n",
       "    </tr>\n",
       "  </thead>\n",
       "  <tbody>\n",
       "    <tr>\n",
       "      <th>0</th>\n",
       "      <td>Date received</td>\n",
       "      <td>object</td>\n",
       "      <td>0</td>\n",
       "      <td>0</td>\n",
       "      <td>4534</td>\n",
       "    </tr>\n",
       "    <tr>\n",
       "      <th>1</th>\n",
       "      <td>Product</td>\n",
       "      <td>object</td>\n",
       "      <td>0</td>\n",
       "      <td>0</td>\n",
       "      <td>21</td>\n",
       "    </tr>\n",
       "    <tr>\n",
       "      <th>2</th>\n",
       "      <td>Sub-product</td>\n",
       "      <td>object</td>\n",
       "      <td>235292</td>\n",
       "      <td>0</td>\n",
       "      <td>86</td>\n",
       "    </tr>\n",
       "    <tr>\n",
       "      <th>3</th>\n",
       "      <td>Issue</td>\n",
       "      <td>object</td>\n",
       "      <td>2</td>\n",
       "      <td>0</td>\n",
       "      <td>178</td>\n",
       "    </tr>\n",
       "    <tr>\n",
       "      <th>4</th>\n",
       "      <td>Sub-issue</td>\n",
       "      <td>object</td>\n",
       "      <td>734775</td>\n",
       "      <td>0</td>\n",
       "      <td>272</td>\n",
       "    </tr>\n",
       "    <tr>\n",
       "      <th>5</th>\n",
       "      <td>Consumer complaint narrative</td>\n",
       "      <td>object</td>\n",
       "      <td>3334239</td>\n",
       "      <td>0</td>\n",
       "      <td>1474741</td>\n",
       "    </tr>\n",
       "    <tr>\n",
       "      <th>6</th>\n",
       "      <td>Company public response</td>\n",
       "      <td>object</td>\n",
       "      <td>2679237</td>\n",
       "      <td>0</td>\n",
       "      <td>11</td>\n",
       "    </tr>\n",
       "    <tr>\n",
       "      <th>7</th>\n",
       "      <td>Company</td>\n",
       "      <td>object</td>\n",
       "      <td>0</td>\n",
       "      <td>0</td>\n",
       "      <td>7203</td>\n",
       "    </tr>\n",
       "    <tr>\n",
       "      <th>8</th>\n",
       "      <td>State</td>\n",
       "      <td>object</td>\n",
       "      <td>45526</td>\n",
       "      <td>0</td>\n",
       "      <td>63</td>\n",
       "    </tr>\n",
       "    <tr>\n",
       "      <th>9</th>\n",
       "      <td>ZIP code</td>\n",
       "      <td>object</td>\n",
       "      <td>30225</td>\n",
       "      <td>0</td>\n",
       "      <td>33623</td>\n",
       "    </tr>\n",
       "    <tr>\n",
       "      <th>10</th>\n",
       "      <td>Tags</td>\n",
       "      <td>object</td>\n",
       "      <td>4659727</td>\n",
       "      <td>0</td>\n",
       "      <td>3</td>\n",
       "    </tr>\n",
       "    <tr>\n",
       "      <th>11</th>\n",
       "      <td>Consumer consent provided?</td>\n",
       "      <td>object</td>\n",
       "      <td>1025256</td>\n",
       "      <td>0</td>\n",
       "      <td>4</td>\n",
       "    </tr>\n",
       "    <tr>\n",
       "      <th>12</th>\n",
       "      <td>Submitted via</td>\n",
       "      <td>object</td>\n",
       "      <td>0</td>\n",
       "      <td>0</td>\n",
       "      <td>7</td>\n",
       "    </tr>\n",
       "    <tr>\n",
       "      <th>13</th>\n",
       "      <td>Date sent to company</td>\n",
       "      <td>object</td>\n",
       "      <td>0</td>\n",
       "      <td>0</td>\n",
       "      <td>4483</td>\n",
       "    </tr>\n",
       "    <tr>\n",
       "      <th>14</th>\n",
       "      <td>Company response to consumer</td>\n",
       "      <td>object</td>\n",
       "      <td>14</td>\n",
       "      <td>0</td>\n",
       "      <td>8</td>\n",
       "    </tr>\n",
       "    <tr>\n",
       "      <th>15</th>\n",
       "      <td>Timely response?</td>\n",
       "      <td>object</td>\n",
       "      <td>0</td>\n",
       "      <td>0</td>\n",
       "      <td>2</td>\n",
       "    </tr>\n",
       "    <tr>\n",
       "      <th>16</th>\n",
       "      <td>Consumer disputed?</td>\n",
       "      <td>object</td>\n",
       "      <td>4373196</td>\n",
       "      <td>0</td>\n",
       "      <td>2</td>\n",
       "    </tr>\n",
       "    <tr>\n",
       "      <th>17</th>\n",
       "      <td>Complaint ID</td>\n",
       "      <td>int64</td>\n",
       "      <td>0</td>\n",
       "      <td>0</td>\n",
       "      <td>5141512</td>\n",
       "    </tr>\n",
       "  </tbody>\n",
       "</table>\n",
       "</div>"
      ],
      "text/plain": [
       "                          Coluna    Tipo  Qtd NAs  Qtd Zeros  Qtd Únicos\n",
       "0                  Date received  object        0          0        4534\n",
       "1                        Product  object        0          0          21\n",
       "2                    Sub-product  object   235292          0          86\n",
       "3                          Issue  object        2          0         178\n",
       "4                      Sub-issue  object   734775          0         272\n",
       "5   Consumer complaint narrative  object  3334239          0     1474741\n",
       "6        Company public response  object  2679237          0          11\n",
       "7                        Company  object        0          0        7203\n",
       "8                          State  object    45526          0          63\n",
       "9                       ZIP code  object    30225          0       33623\n",
       "10                          Tags  object  4659727          0           3\n",
       "11    Consumer consent provided?  object  1025256          0           4\n",
       "12                 Submitted via  object        0          0           7\n",
       "13          Date sent to company  object        0          0        4483\n",
       "14  Company response to consumer  object       14          0           8\n",
       "15              Timely response?  object        0          0           2\n",
       "16            Consumer disputed?  object  4373196          0           2\n",
       "17                  Complaint ID   int64        0          0     5141512"
      ]
     },
     "execution_count": 16,
     "metadata": {},
     "output_type": "execute_result"
    }
   ],
   "source": [
    "import sys\n",
    "import os\n",
    "import pandas as pd\n",
    "\n",
    "# Adiciona o diretório onde o arquivo functions/describe_dataset.py está localizado\n",
    "#sys.path.append(os.path.abspath('..'))\n",
    "#from functions.describe_dataset import analise_descritiva_completa\n",
    "\n",
    "def analise_descritiva_completa(df):\n",
    "    resultados = {\n",
    "        'Coluna': [],\n",
    "        'Tipo': [],\n",
    "        'Qtd NAs': [],\n",
    "        'Qtd Zeros': [],\n",
    "        'Qtd Únicos': [],  \n",
    "    }\n",
    "\n",
    "    for col in df.columns:\n",
    "        resultados['Coluna'].append(col)\n",
    "        resultados['Tipo'].append(df[col].dtype)\n",
    "        resultados['Qtd NAs'].append(df[col].isna().sum())\n",
    "        resultados['Qtd Zeros'].append((df[col] == 0).sum())\n",
    "        resultados['Qtd Únicos'].append(df[col].nunique(dropna=True))  \n",
    "        \n",
    "\n",
    "    resultados_df = pd.DataFrame(resultados)\n",
    "    return resultados_df\n",
    "\n",
    "analise_descritiva_completa(df)"
   ]
  },
  {
   "cell_type": "markdown",
   "metadata": {},
   "source": [
    "---\n",
    "\n",
    "# # **Remover Variáveis Desnecessárias**\n",
    "\n"
   ]
  },
  {
   "cell_type": "code",
   "execution_count": 17,
   "metadata": {},
   "outputs": [
    {
     "data": {
      "text/plain": [
       "(5141512, 14)"
      ]
     },
     "execution_count": 17,
     "metadata": {},
     "output_type": "execute_result"
    }
   ],
   "source": [
    "df =  df.drop(columns=[ 'Date sent to company', 'Submitted via', 'Timely response?', 'Consumer consent provided?'])\n",
    "\n",
    "df.shape"
   ]
  },
  {
   "cell_type": "markdown",
   "metadata": {},
   "source": [
    "# # **Remover registros de Empresas pouco relevantes**\n",
    "\n",
    "Nossa base contém mais de 1000 empresas, porém um grupo menor de empresas concentra a maior parte das reclamações. Vamos remover empresas com menos de 1000 reclamações da nossa análise.\n",
    "\n"
   ]
  },
  {
   "cell_type": "code",
   "execution_count": 18,
   "metadata": {},
   "outputs": [
    {
     "data": {
      "text/plain": [
       "((4790401, 14),\n",
       " Company\n",
       " EQUIFAX, INC.                             1064711\n",
       " TRANSUNION INTERMEDIATE HOLDINGS, INC.     987780\n",
       " Experian Information Solutions Inc.        899810\n",
       " BANK OF AMERICA, NATIONAL ASSOCIATION      140173\n",
       " WELLS FARGO & COMPANY                      128299\n",
       "                                            ...   \n",
       " TrueAccord Corp.                             1018\n",
       " PLANET HOME LENDING, LLC                     1011\n",
       " Bull City Financial Solutions, Inc           1007\n",
       " Delbert Services                             1006\n",
       " Trident Asset Management, L.L.C.             1006\n",
       " Name: count, Length: 244, dtype: int64)"
      ]
     },
     "execution_count": 18,
     "metadata": {},
     "output_type": "execute_result"
    }
   ],
   "source": [
    "# Contando o número de reclamações por empresa\n",
    "complaint_counts = df['Company'].value_counts()\n",
    "\n",
    "# Filtrando para manter apenas empresas com 1000 ou mais reclamações\n",
    "relevant_companies = complaint_counts[complaint_counts >= 1000].index\n",
    "df = df[df['Company'].isin(relevant_companies)]\n",
    "\n",
    "# Verificando o número de registros após o filtro\n",
    "df_filtered_count = df['Company'].value_counts()\n",
    "\n",
    "df.shape, df_filtered_count\n"
   ]
  },
  {
   "cell_type": "markdown",
   "metadata": {},
   "source": [
    "# # **Tratar Nulos**\n",
    "\n",
    "#### Aqui vamos descartar as linhas que contêm valores nulos para as colunas que não conseguimos preencher com valores padrão."
   ]
  },
  {
   "cell_type": "code",
   "execution_count": 19,
   "metadata": {},
   "outputs": [
    {
     "data": {
      "text/plain": [
       "(787148, 14)"
      ]
     },
     "execution_count": 19,
     "metadata": {},
     "output_type": "execute_result"
    }
   ],
   "source": [
    "df = df.dropna(subset=['Consumer complaint narrative', 'Sub-issue', 'Sub-product', 'Issue', 'Company public response', 'Company response to consumer', 'State'])\n",
    "\n",
    "df.shape"
   ]
  },
  {
   "cell_type": "markdown",
   "metadata": {},
   "source": [
    "#### Depois, substituir nulos por algum valor de interesse\n",
    "\n",
    "- Na coluna Tags, substituir os valores ausentes por 'Not provided'.\n",
    "- Na coluna Consumer disputed?, substituir os valores ausentes por 'Not provided'.\n"
   ]
  },
  {
   "cell_type": "code",
   "execution_count": 20,
   "metadata": {},
   "outputs": [],
   "source": [
    "# Substituir valores ausentes na coluna 'Tags' por 'Not provided'\n",
    "df.loc[:, 'Tags'] = df['Tags'].fillna('Not provided')\n",
    "\n",
    "# Substituir valores ausentes na coluna 'Consumer disputed?' por 'Not provided'\n",
    "df.loc[:, 'Consumer disputed?'] = df['Consumer disputed?'].fillna('Not provided')"
   ]
  },
  {
   "cell_type": "markdown",
   "metadata": {},
   "source": [
    "# # **Remover Zip Code Inválidos**\n",
    "\n",
    "Os Zip Code inválidos aparecem com XXXXX"
   ]
  },
  {
   "cell_type": "code",
   "execution_count": 21,
   "metadata": {},
   "outputs": [
    {
     "name": "stdout",
     "output_type": "stream",
     "text": [
      "Quantidade de registros contendo zip code invalido é: 39745\n"
     ]
    }
   ],
   "source": [
    "count_XXXXX = (df['ZIP code'] == 'XXXXX').sum()\n",
    "\n",
    "print(f\"Quantidade de registros contendo zip code invalido é: {count_XXXXX}\")"
   ]
  },
  {
   "cell_type": "code",
   "execution_count": 22,
   "metadata": {},
   "outputs": [],
   "source": [
    "df = df[df['ZIP code'] != 'XXXXX']"
   ]
  },
  {
   "cell_type": "markdown",
   "metadata": {},
   "source": [
    "# # **Criar Coluna de Data (Dia, mês, ano)**"
   ]
  },
  {
   "cell_type": "code",
   "execution_count": 23,
   "metadata": {},
   "outputs": [],
   "source": [
    "df['Date received'] = pd.to_datetime(df['Date received'])\n",
    "\n",
    "# Extraindo dia, mês e ano\n",
    "df['Date received Day'] = df['Date received'].dt.day\n",
    "df['Date received Month'] = df['Date received'].dt.month\n",
    "df['Date received Year'] = df['Date received'].dt.year"
   ]
  },
  {
   "cell_type": "code",
   "execution_count": 24,
   "metadata": {},
   "outputs": [
    {
     "data": {
      "text/plain": [
       "Index(['Date received', 'Product', 'Sub-product', 'Issue', 'Sub-issue',\n",
       "       'Consumer complaint narrative', 'Company public response', 'Company',\n",
       "       'State', 'ZIP code', 'Tags', 'Company response to consumer',\n",
       "       'Consumer disputed?', 'Complaint ID', 'Date received Day',\n",
       "       'Date received Month', 'Date received Year'],\n",
       "      dtype='object')"
      ]
     },
     "execution_count": 24,
     "metadata": {},
     "output_type": "execute_result"
    }
   ],
   "source": [
    "df.columns"
   ]
  },
  {
   "cell_type": "markdown",
   "metadata": {},
   "source": [
    "# # **Tratar Duplicados**\n",
    "\n",
    "Nossa análise de reclamações duplicadas indicou cerca de 160.000 registros duplicados. Isso ocorre por vários motivos.\n",
    "\n",
    "Como tais reclamações podem inclusive conter fraudes, decidimos que seria melhor remove-las do projeto, uma vez que requer uma análise mais aprofundada."
   ]
  },
  {
   "cell_type": "code",
   "execution_count": 25,
   "metadata": {},
   "outputs": [
    {
     "name": "stdout",
     "output_type": "stream",
     "text": [
      "Número de registros duplicados: 157841\n"
     ]
    }
   ],
   "source": [
    "num_duplicates = df['Consumer complaint narrative'].duplicated().sum()\n",
    "print(f\"Número de registros duplicados: {num_duplicates}\")\n"
   ]
  },
  {
   "cell_type": "markdown",
   "metadata": {},
   "source": [
    "## ## **Criar Excel com Duplicados**\n",
    "\n",
    "A análise das reclamações duplicadas contra bancos diferentes, e com pagamento ou não de indenizações, pode ocorrer devido aos seguintes motivos:\n",
    "\n",
    "- Modelos de Reclamação Padrão: Alguns consumidores podem usar modelos prontos ou \"templates\" disponíveis online para fazer suas reclamações. Esses modelos são compartilhados em fóruns, blogs ou por meio de conselheiros legais que fornecem textos sugeridos para facilitar o processo de reclamação. Isso pode resultar em várias reclamações com textos idênticos ou muito semelhantes.\n",
    "\n",
    "- Serviços de Assistência ao Consumidor: Empresas ou advogados especializados em direitos do consumidor às vezes ajudam várias pessoas a registrar reclamações. Eles podem usar um texto padrão para simplificar o processo, especialmente se lidam com muitos casos semelhantes. Isso pode levar a múltiplas reclamações com o mesmo texto, mas em nome de diferentes consumidores.\n",
    "\n",
    "- Erro de Processamento ou Importação de Dados: Pode haver um erro no processo de importação ou processamento de dados dentro do sistema que resultou na duplicação de textos de reclamação. Esse tipo de erro técnico pode fazer com que uma mesma reclamação apareça múltiplas vezes, associada a diferentes contas ou empresas.\n",
    "\n",
    "- Fraude ou Spam: Em alguns casos, pessoas podem enviar múltiplas reclamações com o mesmo texto em uma tentativa de sobrecarregar o sistema ou criar um impacto maior, especialmente se estiverem buscando uma resolução rápida ou compensação.\n",
    "\n",
    "- Influência de Grupos de Defesa de Direitos: Organizações que defendem os direitos dos consumidores podem incentivar seus membros ou o público a apresentar reclamações sobre certas práticas de forma coordenada, usando um texto padrão para garantir que a mensagem seja clara e consistente."
   ]
  },
  {
   "cell_type": "code",
   "execution_count": 26,
   "metadata": {},
   "outputs": [],
   "source": [
    "# Contando as ocorrências de cada valor na coluna 'Consumer complaint narrative'\n",
    "value_counts = df['Consumer complaint narrative'].value_counts()\n",
    "\n",
    "# Filtrando os valores com mais de 5 duplicatas\n",
    "narratives_with_many_duplicates = value_counts[value_counts > 5].index\n",
    "\n",
    "# Criando o subset do DataFrame com esses registros\n",
    "df_duplicates = df[df['Consumer complaint narrative'].isin(narratives_with_many_duplicates)]\n",
    "\n",
    "df_duplicates.to_excel('./excel/df_duplicates.xlsx', index=False)"
   ]
  },
  {
   "cell_type": "markdown",
   "metadata": {},
   "source": [
    "# # **Amostragem**\n",
    "\n",
    "Como nas próximas etapas iremos usar APIs que possuem um custo associado, vamos fazer uma amostragem dos dados para reduzir o custo.\n",
    "\n",
    "Inicialmente vamos trabalhar com uma amostra do dataset, dividindo 50% entre reclamações que geraram pagamento de indenização e 50% que não geraram."
   ]
  },
  {
   "cell_type": "code",
   "execution_count": 27,
   "metadata": {},
   "outputs": [
    {
     "data": {
      "text/plain": [
       "(        Date received                      Product  \\\n",
       " 728911     2023-01-15  Credit card or prepaid card   \n",
       " 3286153    2017-11-07  Credit card or prepaid card   \n",
       " 1543600    2021-02-24  Checking or savings account   \n",
       " 3395371    2017-09-13  Checking or savings account   \n",
       " 4239323    2023-08-26  Checking or savings account   \n",
       " \n",
       "                                         Sub-product  \\\n",
       " 728911   General-purpose credit card or charge card   \n",
       " 3286153  General-purpose credit card or charge card   \n",
       " 1543600                             Savings account   \n",
       " 3395371                            Checking account   \n",
       " 4239323                            Checking account   \n",
       " \n",
       "                                                      Issue  \\\n",
       " 728911     Problem with a purchase shown on your statement   \n",
       " 3286153                 Other features, terms, or problems   \n",
       " 1543600                                 Closing an account   \n",
       " 3395371  Problem with a lender or other company chargin...   \n",
       " 4239323                                Managing an account   \n",
       " \n",
       "                                                  Sub-issue  \\\n",
       " 728911   Credit card company isn't resolving a dispute ...   \n",
       " 3286153                                      Other problem   \n",
       " 1543600                           Can't close your account   \n",
       " 3395371           Can't stop withdrawals from your account   \n",
       " 4239323                           Deposits and withdrawals   \n",
       " \n",
       "                               Consumer complaint narrative  \\\n",
       " 728911   XXXX On XX/XX/2022 I bought an office chair fr...   \n",
       " 3286153  I tried to add my husband to my existing CitiB...   \n",
       " 1543600  Hi i closed a checking and savings account XX/...   \n",
       " 3395371  Bank Of America took out XXXX after someone i ...   \n",
       " 4239323  To whom it may concern, I recently was a victi...   \n",
       " \n",
       "                                    Company public response  \\\n",
       " 728911   Company has responded to the consumer and the ...   \n",
       " 3286153  Company has responded to the consumer and the ...   \n",
       " 1543600  Company has responded to the consumer and the ...   \n",
       " 3395371  Company has responded to the consumer and the ...   \n",
       " 4239323  Company has responded to the consumer and the ...   \n",
       " \n",
       "                                        Company State ZIP code            Tags  \\\n",
       " 728911                  BARCLAYS BANK DELAWARE    CA    94706  Older American   \n",
       " 3286153                         CITIBANK, N.A.    CA    91403    Not provided   \n",
       " 1543600                         CITIBANK, N.A.    MN    55068    Not provided   \n",
       " 3395371  BANK OF AMERICA, NATIONAL ASSOCIATION    PA    180XX    Not provided   \n",
       " 4239323                    ALLY FINANCIAL INC.    MI    48188    Not provided   \n",
       " \n",
       "         Company response to consumer Consumer disputed?  Complaint ID  \\\n",
       " 728911   Closed with monetary relief       Not provided       6440781   \n",
       " 3286153  Closed with monetary relief       Not provided       2723036   \n",
       " 1543600  Closed with monetary relief       Not provided       4162883   \n",
       " 3395371  Closed with monetary relief       Not provided       2671871   \n",
       " 4239323  Closed with monetary relief       Not provided       7465215   \n",
       " \n",
       "          Date received Day  Date received Month  Date received Year  \n",
       " 728911                  15                    1                2023  \n",
       " 3286153                  7                   11                2017  \n",
       " 1543600                 24                    2                2021  \n",
       " 3395371                 13                    9                2017  \n",
       " 4239323                 26                    8                2023  ,\n",
       " Company response to consumer\n",
       " Closed with monetary relief        2500\n",
       " Closed with explanation            1546\n",
       " Closed with non-monetary relief     951\n",
       " Closed                                3\n",
       " Name: count, dtype: int64)"
      ]
     },
     "execution_count": 27,
     "metadata": {},
     "output_type": "execute_result"
    }
   ],
   "source": [
    "import random\n",
    "\n",
    "# Valor de 50% da amostra\n",
    "n_sample = 2500\n",
    "\n",
    "# 1. Filtrar os registros com 'Closed with monetary relief'\n",
    "df_monetary_relief = df[df['Company response to consumer'] == 'Closed with monetary relief']\n",
    "\n",
    "# 2. Filtrar os registros com qualquer outro valor\n",
    "df_other_responses = df[df['Company response to consumer'] != 'Closed with monetary relief']\n",
    "\n",
    "# 3. Amostrar 2500 registros de cada grupo\n",
    "df_monetary_sample = df_monetary_relief.sample(n=n_sample, random_state=42)\n",
    "df_other_sample = df_other_responses.sample(n=n_sample, random_state=42)\n",
    "\n",
    "# 4. Combinar as amostras\n",
    "df_sample = pd.concat([df_monetary_sample, df_other_sample])\n",
    "\n",
    "# Verificar a distribuição no df_sample\n",
    "df_sample_distribution = df_sample['Company response to consumer'].value_counts()\n",
    "\n",
    "df_sample_distribution"
   ]
  },
  {
   "cell_type": "markdown",
   "metadata": {},
   "source": [
    "---\n",
    "\n",
    "# **Exportando Arquivos Gerados**"
   ]
  },
  {
   "cell_type": "code",
   "execution_count": 28,
   "metadata": {},
   "outputs": [],
   "source": [
    "df_sample.to_pickle(\"./pickle/df_cleaned.pkl\")"
   ]
  },
  {
   "cell_type": "code",
   "execution_count": 2,
   "metadata": {},
   "outputs": [
    {
     "name": "stdout",
     "output_type": "stream",
     "text": [
      "Notebook Data Cleaning Concluído\n"
     ]
    }
   ],
   "source": [
    "print(\"Notebook Data Cleaning Concluído\")"
   ]
  },
  {
   "cell_type": "code",
   "execution_count": null,
   "metadata": {},
   "outputs": [],
   "source": []
  }
 ],
 "metadata": {
  "kernelspec": {
   "display_name": "Python 3",
   "language": "python",
   "name": "python3"
  },
  "language_info": {
   "codemirror_mode": {
    "name": "ipython",
    "version": 3
   },
   "file_extension": ".py",
   "mimetype": "text/x-python",
   "name": "python",
   "nbconvert_exporter": "python",
   "pygments_lexer": "ipython3",
   "version": "3.11.2"
  }
 },
 "nbformat": 4,
 "nbformat_minor": 2
}
