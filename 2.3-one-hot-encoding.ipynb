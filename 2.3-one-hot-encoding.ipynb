{
 "cells": [
  {
   "cell_type": "markdown",
   "metadata": {},
   "source": [
    "# **One-Hot Encoding**\n",
    "\n",
    "Nesta etapa iremos aplicar one-hot-encoding para transformar variáveis categóricas em numéricas.\n",
    "\n",
    "\n",
    "| Variável                       | Descrição                                           | Ação                                                        |\n",
    "|--------------------------------|-----------------------------------------------------|-------------------------------------------------------------|\n",
    "| Product                        | Produto financeiro ou serviço                       | Aplicar one-hot encoding.  |\n",
    "| Sub-product                    | Subproduto financeiro ou serviço                    | Criar variável agrupada grouped_sub_product e então aplicar one-hot encoding. |\n",
    "| Issue                          | Problema relatado pelo consumidor                   | Criar variável agrupada grouped_issue e então aplicar one-hot encoding. |\n",
    "| Sub-issue                      | Subproblema relatado pelo consumidor                | manter  |\n",
    "| State                          | Estado do consumidor                                | one-hot encoding                                            |\n",
    "| Company public response        | Resposta pública da empresa                         | one-hot encoding                                            |\n",
    "| Tags                           | Tags relacionadas à reclamação                     | one-hot encoding                                                     |\n",
    "| Consumer disputed?             | Consumidor contestou a resposta                     | one-hot encoding\n",
    "| Company size, Company market, Company response time, Company response satisfaction, Zip average education, Zip bank services access, Zip crime rate, Zip unemployment rate | Variáveis categóricas criadas na etapa data-enrichment | one-hot encoding |"
   ]
  },
  {
   "cell_type": "markdown",
   "metadata": {},
   "source": [
    "---"
   ]
  },
  {
   "cell_type": "markdown",
   "metadata": {},
   "source": [
    "# # **Importando Pickle da Etapa Anterior**"
   ]
  },
  {
   "cell_type": "code",
   "execution_count": 29,
   "metadata": {},
   "outputs": [
    {
     "data": {
      "text/plain": [
       "(4887, 28)"
      ]
     },
     "execution_count": 29,
     "metadata": {},
     "output_type": "execute_result"
    }
   ],
   "source": [
    "import pandas as pd\n",
    "\n",
    "df = pd.read_pickle('./pickle/df_enrichment_final.pkl')\n",
    "\n",
    "df.shape"
   ]
  },
  {
   "cell_type": "code",
   "execution_count": 30,
   "metadata": {},
   "outputs": [
    {
     "data": {
      "text/plain": [
       "Index(['Date received', 'Product', 'Sub-product', 'Issue', 'Sub-issue',\n",
       "       'Consumer complaint narrative', 'Company public response', 'Company',\n",
       "       'State', 'ZIP code', 'Tags', 'Company response to consumer',\n",
       "       'Consumer disputed?', 'Complaint ID', 'Date received Day',\n",
       "       'Date received Month', 'Date received Year', 'Company size',\n",
       "       'Company market', 'Company response time',\n",
       "       'Company response satisfaction', 'Zip average education',\n",
       "       'Zip life expectancy', 'Zip average income', 'Zip average age',\n",
       "       'Zip bank services access', 'Zip crime rate', 'Zip unemployment rate'],\n",
       "      dtype='object')"
      ]
     },
     "execution_count": 30,
     "metadata": {},
     "output_type": "execute_result"
    }
   ],
   "source": [
    "df.columns"
   ]
  },
  {
   "cell_type": "markdown",
   "metadata": {},
   "source": [
    "----\n"
   ]
  },
  {
   "cell_type": "markdown",
   "metadata": {},
   "source": [
    "# # **One Hot Encoding**"
   ]
  },
  {
   "cell_type": "code",
   "execution_count": 31,
   "metadata": {},
   "outputs": [
    {
     "data": {
      "text/plain": [
       "Product                     11\n",
       "Sub-product                 37\n",
       "Issue                       48\n",
       "Sub-issue                  158\n",
       "State                       52\n",
       "Company public response     10\n",
       "Tags                         4\n",
       "Consumer disputed?           3\n",
       "dtype: int64"
      ]
     },
     "execution_count": 31,
     "metadata": {},
     "output_type": "execute_result"
    }
   ],
   "source": [
    "unique_values_count = df[['Product', 'Sub-product', 'Issue', 'Sub-issue', 'State', 'Company public response', 'Tags', 'Consumer disputed?']].nunique()\n",
    "\n",
    "unique_values_count"
   ]
  },
  {
   "cell_type": "markdown",
   "metadata": {},
   "source": [
    "## ## **Variáveis Categóricas Enriquecidas**"
   ]
  },
  {
   "cell_type": "code",
   "execution_count": 33,
   "metadata": {},
   "outputs": [],
   "source": [
    "df = pd.get_dummies(df, columns=[\n",
    "    'Company size', 'Company market', 'Company response time', 'Company response satisfaction',\n",
    "    'Zip average education', 'Zip bank services access', 'Zip crime rate', 'Zip unemployment rate'], \n",
    "    drop_first=True)"
   ]
  },
  {
   "cell_type": "code",
   "execution_count": 34,
   "metadata": {},
   "outputs": [
    {
     "data": {
      "text/plain": [
       "Index(['Date received', 'Product', 'Sub-product', 'Issue', 'Sub-issue',\n",
       "       'Consumer complaint narrative', 'Company public response', 'Company',\n",
       "       'State', 'ZIP code', 'Tags', 'Company response to consumer',\n",
       "       'Consumer disputed?', 'Complaint ID', 'Date received Day',\n",
       "       'Date received Month', 'Date received Year', 'Zip life expectancy',\n",
       "       'Zip average income', 'Zip average age', 'Company size_low',\n",
       "       'Company size_medium', 'Company market_low', 'Company market_medium',\n",
       "       'Company response time_low', 'Company response time_medium',\n",
       "       'Company response satisfaction_low',\n",
       "       'Company response satisfaction_medium', 'Zip average education_low',\n",
       "       'Zip average education_medium', 'Zip bank services access_low',\n",
       "       'Zip bank services access_medium', 'Zip crime rate_low',\n",
       "       'Zip crime rate_medium', 'Zip unemployment rate_low',\n",
       "       'Zip unemployment rate_medium'],\n",
       "      dtype='object')"
      ]
     },
     "execution_count": 34,
     "metadata": {},
     "output_type": "execute_result"
    }
   ],
   "source": [
    "df.columns"
   ]
  },
  {
   "cell_type": "markdown",
   "metadata": {},
   "source": [
    "## ## **Product**"
   ]
  },
  {
   "cell_type": "code",
   "execution_count": 35,
   "metadata": {},
   "outputs": [
    {
     "data": {
      "text/plain": [
       "11"
      ]
     },
     "execution_count": 35,
     "metadata": {},
     "output_type": "execute_result"
    }
   ],
   "source": [
    "# Aplicando One-Hot Encoding na coluna 'Product'\n",
    "df = pd.get_dummies(df, columns=['Product'])\n",
    "\n",
    "# Contando a quantidade de colunas que começam com \"Product_\"\n",
    "product_columns_count = len([col for col in df.columns if col.startswith('Product_')])\n",
    "\n",
    "product_columns_count"
   ]
  },
  {
   "cell_type": "markdown",
   "metadata": {},
   "source": [
    "## ## **Sub-product**\n",
    "\n",
    "Para a variável `Sub-product` iremos agrupar as variáveis similares e então aplicar one-hot encoding.\n",
    "\n",
    "| **Category**                        | **Sub-products**                                              |\n",
    "|-------------------------------------|---------------------------------------------------------------|\n",
    "| **Credit Reporting and Consumer Reports** | Credit reporting, Other personal consumer report, I do not know |\n",
    "| **Bank Accounts**                   | Checking account, Savings account, CD (Certificate of Deposit) |\n",
    "| **Student Loans**                   | Federal student loan servicing, Private student loan, Federal student loan debt, Private student loan debt, Non-federal student loan, Federal student loan |\n",
    "| **Mortgages**                       | Conventional home mortgage, FHA mortgage, VA mortgage, USDA mortgage, Reverse mortgage, Other type of mortgage, Mortgage, Mortgage debt |\n",
    "| **Credit Cards**                    | General-purpose credit card or charge card, Store credit card, Credit card debt, Credit card |\n",
    "| **Prepaid and Gift Cards**          | General-purpose prepaid card, Government benefit card, Payroll card, Gift card, Student prepaid card |\n",
    "| **Personal Loans**                  | Personal line of credit, Installment loan, Title loan, Loan    |\n",
    "| **Auto Loans and Debts**            | Auto debt, Auto                                                |\n",
    "| **Other Debts**                     | Telecommunications debt, Other debt, Payday loan debt, Medical debt, Rental debt, Medical, Lease |\n",
    "| **Specialized Mortgages and Loans** | Home equity loan or line of credit (HELOC), Manufactured home loan, Payday loan, Pawn loan |\n",
    "| **Other Financial Products**        | Other banking product or service, Other (i.e. phone, health club, etc.) |\n"
   ]
  },
  {
   "cell_type": "code",
   "execution_count": 36,
   "metadata": {},
   "outputs": [],
   "source": [
    "# Mapeamento dos sub-produtos para as novas categorias agrupadas\n",
    "sub_product_mapping = {\n",
    "    'Credit reporting': 'Credit Reporting and Consumer Reports',\n",
    "    'Other personal consumer report': 'Credit Reporting and Consumer Reports',\n",
    "    'I do not know': 'Credit Reporting and Consumer Reports',\n",
    "    'Checking account': 'Bank Accounts',\n",
    "    'Savings account': 'Bank Accounts',\n",
    "    'CD (Certificate of Deposit)': 'Bank Accounts',\n",
    "    'Federal student loan servicing': 'Student Loans',\n",
    "    'Private student loan': 'Student Loans',\n",
    "    'Federal student loan debt': 'Student Loans',\n",
    "    'Private student loan debt': 'Student Loans',\n",
    "    'Non-federal student loan': 'Student Loans',\n",
    "    'Federal student loan': 'Student Loans',\n",
    "    'Conventional home mortgage': 'Mortgages',\n",
    "    'FHA mortgage': 'Mortgages',\n",
    "    'VA mortgage': 'Mortgages',\n",
    "    'USDA mortgage': 'Mortgages',\n",
    "    'Reverse mortgage': 'Mortgages',\n",
    "    'Other type of mortgage': 'Mortgages',\n",
    "    'Mortgage': 'Mortgages',\n",
    "    'Mortgage debt': 'Mortgages',\n",
    "    'General-purpose credit card or charge card': 'Credit Cards',\n",
    "    'Store credit card': 'Credit Cards',\n",
    "    'Credit card debt': 'Credit Cards',\n",
    "    'Credit card': 'Credit Cards',\n",
    "    'General-purpose prepaid card': 'Prepaid and Gift Cards',\n",
    "    'Government benefit card': 'Prepaid and Gift Cards',\n",
    "    'Payroll card': 'Prepaid and Gift Cards',\n",
    "    'Gift card': 'Prepaid and Gift Cards',\n",
    "    'Student prepaid card': 'Prepaid and Gift Cards',\n",
    "    'Personal line of credit': 'Personal Loans',\n",
    "    'Installment loan': 'Personal Loans',\n",
    "    'Title loan': 'Personal Loans',\n",
    "    'Loan': 'Personal Loans',\n",
    "    'Auto debt': 'Auto Loans and Debts',\n",
    "    'Auto': 'Auto Loans and Debts',\n",
    "    'Telecommunications debt': 'Other Debts',\n",
    "    'Other debt': 'Other Debts',\n",
    "    'Payday loan debt': 'Other Debts',\n",
    "    'Medical debt': 'Other Debts',\n",
    "    'Rental debt': 'Other Debts',\n",
    "    'Medical': 'Other Debts',\n",
    "    'Lease': 'Other Debts',\n",
    "    'Home equity loan or line of credit (HELOC)': 'Specialized Mortgages and Loans',\n",
    "    'Manufactured home loan': 'Specialized Mortgages and Loans',\n",
    "    'Payday loan': 'Specialized Mortgages and Loans',\n",
    "    'Pawn loan': 'Specialized Mortgages and Loans',\n",
    "    'Other banking product or service': 'Other Financial Products',\n",
    "    'Other (i.e. phone, health club, etc.)': 'Other Financial Products'\n",
    "}\n",
    "\n",
    "# Aplicando o mapeamento para criar a nova coluna 'grouped_sub_product'\n",
    "df['grouped_sub_product'] = df['Sub-product'].map(sub_product_mapping)"
   ]
  },
  {
   "cell_type": "code",
   "execution_count": 37,
   "metadata": {},
   "outputs": [
    {
     "data": {
      "text/plain": [
       "grouped_sub_product\n",
       "Credit Reporting and Consumer Reports    2078\n",
       "Credit Cards                             1341\n",
       "Bank Accounts                            1014\n",
       "Other Debts                               103\n",
       "Prepaid and Gift Cards                     99\n",
       "Other Financial Products                   90\n",
       "Personal Loans                             76\n",
       "Student Loans                              39\n",
       "Mortgages                                  32\n",
       "Auto Loans and Debts                       14\n",
       "Specialized Mortgages and Loans             1\n",
       "Name: count, dtype: int64"
      ]
     },
     "execution_count": 37,
     "metadata": {},
     "output_type": "execute_result"
    }
   ],
   "source": [
    "df['grouped_sub_product'].value_counts()"
   ]
  },
  {
   "cell_type": "code",
   "execution_count": 38,
   "metadata": {},
   "outputs": [
    {
     "data": {
      "text/plain": [
       "11"
      ]
     },
     "execution_count": 38,
     "metadata": {},
     "output_type": "execute_result"
    }
   ],
   "source": [
    "# Aplicando One-Hot Encoding na coluna 'Product'\n",
    "df = pd.get_dummies(df, columns=['grouped_sub_product'])\n",
    "\n",
    "# Contando a quantidade de colunas que começam com \"Product_\"\n",
    "grouped_sub_product_columns_count = len([col for col in df.columns if col.startswith('grouped_sub_product_')])\n",
    "\n",
    "grouped_sub_product_columns_count"
   ]
  },
  {
   "cell_type": "markdown",
   "metadata": {},
   "source": [
    "# # **Issue**\n",
    "\n",
    "| **Grouped Issue**                      | **Original Issues**                                                                                                            |\n",
    "|----------------------------------------|--------------------------------------------------------------------------------------------------------------------------------|\n",
    "| **Credit Report Issues**               | Incorrect information on your report, Improper use of your report, Unable to get your credit report or credit score, Problem with a credit reporting company's investigation into an existing problem |\n",
    "| **Account Management**                 | Managing an account, Closing an account, Opening an account, Closing your account, Problem with a purchase shown on your statement, Problem getting a card or closing an account |\n",
    "| **Loan and Mortgage Issues**           | Applying for a mortgage or refinancing an existing mortgage, Struggling to pay mortgage, Closing on a mortgage, Dealing with your lender or servicer, Managing the loan or lease, Problems at the end of the loan or lease, Struggling to repay your loan, Getting a loan or lease, Struggling to pay your loan, Struggling to pay your bill, Repossession, Issue where my lender is my school, Can't repay my loan, Issue with income share agreement, Problem with overdraft, Problem with an overdraft |\n",
    "| **Debt Collection Issues**             | Attempts to collect debt not owed, Written notification about debt, Communication tactics, False statements or representation, Threatened to contact someone or share information improperly, Taking/threatening an illegal action, Disclosure verification of debt, Improper contact or sharing of info, Cont'd attempts collect debt not owed |\n",
    "| **Payment Issues**                     | Trouble during payment process, Problem when making payments, Problem caused by your funds being low, Fees or interest |\n",
    "| **Credit Card Issues**                 | Trouble using the card, Trouble using your card, Problem with a purchase or transfer, Getting a credit card, Problem with a lender or other company charging your account |\n",
    "| **Identity Theft and Monitoring Services** | Credit monitoring or identity theft protection services, Identity theft protection or other monitoring services |\n",
    "| **Advertising and Marketing**          | Advertising and marketing, including promotional offers, Advertising |\n",
    "| **Legal and Threats Issues**           | Took or threatened to take negative or legal action, Problem with a company's investigation into an existing problem, Problem with a company's investigation into an existing issue |\n",
    "| **Electronic and Communication Issues** | Electronic communications, Problem with overdraft |\n"
   ]
  },
  {
   "cell_type": "code",
   "execution_count": 39,
   "metadata": {},
   "outputs": [
    {
     "data": {
      "text/plain": [
       "['Problem with a purchase shown on your statement',\n",
       " 'Other features, terms, or problems',\n",
       " 'Closing an account',\n",
       " 'Problem with a lender or other company charging your account',\n",
       " 'Managing an account',\n",
       " 'Problem when making payments',\n",
       " 'Problem with a purchase or transfer',\n",
       " \"Problem with a credit reporting company's investigation into an existing problem\",\n",
       " 'Dealing with my lender or servicer',\n",
       " 'Attempts to collect debt not owed',\n",
       " 'Fees or interest',\n",
       " 'Credit monitoring or identity theft protection services',\n",
       " 'Dealing with your lender or servicer',\n",
       " 'Struggling to pay your bill',\n",
       " 'Advertising and marketing, including promotional offers',\n",
       " 'Incorrect information on your report',\n",
       " 'Problem caused by your funds being low',\n",
       " 'Getting a credit card',\n",
       " 'Opening an account',\n",
       " 'Written notification about debt',\n",
       " 'Trouble using the card',\n",
       " 'Closing your account',\n",
       " 'Taking/threatening an illegal action',\n",
       " 'Trouble using your card',\n",
       " 'Unable to get your credit report or credit score',\n",
       " 'Trouble during payment process',\n",
       " 'Communication tactics',\n",
       " 'Problems at the end of the loan or lease',\n",
       " 'False statements or representation',\n",
       " 'Managing the loan or lease',\n",
       " \"Cont'd attempts collect debt not owed\",\n",
       " 'Identity theft protection or other monitoring services',\n",
       " 'Improper use of your report',\n",
       " 'Took or threatened to take negative or legal action',\n",
       " 'Problem getting a card or closing an account',\n",
       " \"Problem with a company's investigation into an existing problem\",\n",
       " 'Closing on a mortgage',\n",
       " \"Problem with a company's investigation into an existing issue\",\n",
       " 'Getting a loan or lease',\n",
       " 'Struggling to pay your loan',\n",
       " 'Struggling to pay mortgage',\n",
       " 'Threatened to contact someone or share information improperly',\n",
       " 'Disclosure verification of debt',\n",
       " 'Repossession',\n",
       " 'Applying for a mortgage or refinancing an existing mortgage',\n",
       " 'Struggling to repay your loan',\n",
       " \"Can't repay my loan\",\n",
       " 'Improper contact or sharing of info']"
      ]
     },
     "execution_count": 39,
     "metadata": {},
     "output_type": "execute_result"
    }
   ],
   "source": [
    "unique_issue = df['Issue'].unique().tolist()\n",
    "unique_issue"
   ]
  },
  {
   "cell_type": "code",
   "execution_count": 40,
   "metadata": {},
   "outputs": [],
   "source": [
    "# Mapeamento dos issues para as novas categorias agrupadas\n",
    "issue_mapping = {\n",
    "    'Incorrect information on your report': 'Credit Report Issues',\n",
    "    'Improper use of your report': 'Credit Report Issues',\n",
    "    \"Problem with a credit reporting company's investigation into an existing problem\": 'Credit Report Issues',\n",
    "    'Unable to get your credit report or credit score': 'Credit Report Issues',\n",
    "    'Managing an account': 'Account Management',\n",
    "    'Closing an account': 'Account Management',\n",
    "    'Opening an account': 'Account Management',\n",
    "    'Closing your account': 'Account Management',\n",
    "    'Problem with a purchase shown on your statement': 'Account Management',\n",
    "    'Problem getting a card or closing an account': 'Account Management',\n",
    "    'Applying for a mortgage or refinancing an existing mortgage': 'Loan and Mortgage Issues',\n",
    "    'Struggling to pay mortgage': 'Loan and Mortgage Issues',\n",
    "    'Closing on a mortgage': 'Loan and Mortgage Issues',\n",
    "    'Dealing with your lender or servicer': 'Loan and Mortgage Issues',\n",
    "    'Managing the loan or lease': 'Loan and Mortgage Issues',\n",
    "    'Problems at the end of the loan or lease': 'Loan and Mortgage Issues',\n",
    "    'Struggling to repay your loan': 'Loan and Mortgage Issues',\n",
    "    'Getting a loan or lease': 'Loan and Mortgage Issues',\n",
    "    'Struggling to pay your loan': 'Loan and Mortgage Issues',\n",
    "    'Struggling to pay your bill': 'Loan and Mortgage Issues',\n",
    "    'Repossession': 'Loan and Mortgage Issues',\n",
    "    'Issue where my lender is my school': 'Loan and Mortgage Issues',\n",
    "    \"Can't repay my loan\": 'Loan and Mortgage Issues',\n",
    "    'Issue with income share agreement': 'Loan and Mortgage Issues',\n",
    "    'Problem with overdraft': 'Loan and Mortgage Issues',\n",
    "    'Problem with an overdraft': 'Loan and Mortgage Issues',\n",
    "    'Attempts to collect debt not owed': 'Debt Collection Issues',\n",
    "    'Written notification about debt': 'Debt Collection Issues',\n",
    "    'Communication tactics': 'Debt Collection Issues',\n",
    "    'False statements or representation': 'Debt Collection Issues',\n",
    "    'Threatened to contact someone or share information improperly': 'Debt Collection Issues',\n",
    "    'Taking/threatening an illegal action': 'Debt Collection Issues',\n",
    "    'Disclosure verification of debt': 'Debt Collection Issues',\n",
    "    'Improper contact or sharing of info': 'Debt Collection Issues',\n",
    "    \"Cont'd attempts collect debt not owed\": 'Debt Collection Issues',\n",
    "    'Trouble during payment process': 'Payment Issues',\n",
    "    'Problem when making payments': 'Payment Issues',\n",
    "    'Problem caused by your funds being low': 'Payment Issues',\n",
    "    'Fees or interest': 'Payment Issues',\n",
    "    'Trouble using the card': 'Credit Card Issues',\n",
    "    'Trouble using your card': 'Credit Card Issues',\n",
    "    'Problem with a purchase or transfer': 'Credit Card Issues',\n",
    "    'Getting a credit card': 'Credit Card Issues',\n",
    "    'Problem with a lender or other company charging your account': 'Credit Card Issues',\n",
    "    'Credit monitoring or identity theft protection services': 'Identity Theft and Monitoring Services',\n",
    "    'Identity theft protection or other monitoring services': 'Identity Theft and Monitoring Services',\n",
    "    'Advertising and marketing, including promotional offers': 'Advertising and Marketing',\n",
    "    'Advertising': 'Advertising and Marketing',\n",
    "    'Took or threatened to take negative or legal action': 'Legal and Threats Issues',\n",
    "    \"Problem with a company's investigation into an existing problem\": 'Legal and Threats Issues',\n",
    "    \"Problem with a company's investigation into an existing issue\": 'Legal and Threats Issues',\n",
    "    'Electronic communications': 'Electronic and Communication Issues',\n",
    "}\n",
    "\n",
    "# Aplicando o mapeamento para criar a nova coluna 'grouped_issue'\n",
    "df['grouped_issue'] = df['Issue'].map(issue_mapping)\n"
   ]
  },
  {
   "cell_type": "code",
   "execution_count": 41,
   "metadata": {},
   "outputs": [
    {
     "data": {
      "text/plain": [
       "grouped_issue\n",
       "Credit Report Issues                      1893\n",
       "Account Management                        1443\n",
       "Payment Issues                             485\n",
       "Credit Card Issues                         286\n",
       "Debt Collection Issues                     259\n",
       "Legal and Threats Issues                   127\n",
       "Loan and Mortgage Issues                   116\n",
       "Identity Theft and Monitoring Services      65\n",
       "Advertising and Marketing                   60\n",
       "Name: count, dtype: int64"
      ]
     },
     "execution_count": 41,
     "metadata": {},
     "output_type": "execute_result"
    }
   ],
   "source": [
    "df['grouped_issue'].value_counts()"
   ]
  },
  {
   "cell_type": "code",
   "execution_count": 42,
   "metadata": {},
   "outputs": [
    {
     "data": {
      "text/plain": [
       "9"
      ]
     },
     "execution_count": 42,
     "metadata": {},
     "output_type": "execute_result"
    }
   ],
   "source": [
    "# Aplicando One-Hot Encoding na coluna 'Product'\n",
    "df = pd.get_dummies(df, columns=['grouped_issue'])\n",
    "\n",
    "# Contando a quantidade de colunas que começam com \"Product_\"\n",
    "grouped_issue_columns_count = len([col for col in df.columns if col.startswith('grouped_issue')])\n",
    "\n",
    "grouped_issue_columns_count"
   ]
  },
  {
   "cell_type": "markdown",
   "metadata": {},
   "source": [
    "## ## **Demais Variáveis Categóricas**\n",
    "\n",
    "Transformar as variáveis: State, Company public response, Tags e Consumer disputed? em variáveis numéricas."
   ]
  },
  {
   "cell_type": "code",
   "execution_count": 43,
   "metadata": {},
   "outputs": [],
   "source": [
    "# Aplicando One-Hot Encoding \n",
    "df = pd.get_dummies(df, columns=['State', 'Company public response', 'Tags', 'Consumer disputed?'])\n"
   ]
  },
  {
   "cell_type": "code",
   "execution_count": 44,
   "metadata": {},
   "outputs": [
    {
     "name": "stdout",
     "output_type": "stream",
     "text": [
      "A quantidade de colunas criadas para a variável State é 52.\n",
      "A quantidade de colunas criadas para a variável Company public response é 10.\n",
      "A quantidade de colunas criadas para a variável Tags é 4.\n",
      "A quantidade de colunas criadas para a variável Consumer disputed? é 3.\n"
     ]
    }
   ],
   "source": [
    "state_columns_count = len([col for col in df.columns if col.startswith('State_')])\n",
    "company_columns_count = len([col for col in df.columns if col.startswith('Company public response_')])\n",
    "tags_columns_count = len([col for col in df.columns if col.startswith('Tags_')])\n",
    "consumer_disputed_columns_count = len([col for col in df.columns if col.startswith('Consumer disputed?_')])\n",
    "\n",
    "print(f'A quantidade de colunas criadas para a variável State é {state_columns_count}.')\n",
    "print(f'A quantidade de colunas criadas para a variável Company public response é {company_columns_count}.')\n",
    "print(f'A quantidade de colunas criadas para a variável Tags é {tags_columns_count}.')\n",
    "print(f'A quantidade de colunas criadas para a variável Consumer disputed? é {consumer_disputed_columns_count}.')\n",
    "\n"
   ]
  },
  {
   "cell_type": "markdown",
   "metadata": {},
   "source": [
    "---\n",
    "\n",
    "# **Exportando Arquivos Gerados**"
   ]
  },
  {
   "cell_type": "code",
   "execution_count": 45,
   "metadata": {},
   "outputs": [],
   "source": [
    "df.to_excel('./excel/df_onehot.xlsx', index=False)"
   ]
  },
  {
   "cell_type": "code",
   "execution_count": 46,
   "metadata": {},
   "outputs": [],
   "source": [
    "df.to_pickle(\"./pickle/df_onehot.pkl\")"
   ]
  },
  {
   "cell_type": "code",
   "execution_count": 47,
   "metadata": {},
   "outputs": [
    {
     "name": "stdout",
     "output_type": "stream",
     "text": [
      "Notebook One Hot Encoding Concluído\n"
     ]
    }
   ],
   "source": [
    "print(\"Notebook One Hot Encoding Concluído\")"
   ]
  }
 ],
 "metadata": {
  "kernelspec": {
   "display_name": "Python 3",
   "language": "python",
   "name": "python3"
  },
  "language_info": {
   "codemirror_mode": {
    "name": "ipython",
    "version": 3
   },
   "file_extension": ".py",
   "mimetype": "text/x-python",
   "name": "python",
   "nbconvert_exporter": "python",
   "pygments_lexer": "ipython3",
   "version": "3.11.2"
  }
 },
 "nbformat": 4,
 "nbformat_minor": 2
}
