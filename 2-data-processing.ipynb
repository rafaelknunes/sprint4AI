{
 "cells": [
  {
   "cell_type": "markdown",
   "metadata": {},
   "source": [
    "# # **Resumo do Processamento**\n",
    "\n",
    "- Data Cleaning: Remoção de variáveis desnecessárias e sanitização básica. Aqui também foi feita a remoção de duplicatas. Por fim, será feita uma amostragem.\n",
    "- Data Enrichment: Extração de informações relevantes das variáveis textuais.\n",
    "- One-hot encoding: Transformação de variáveis categóricas em numéricas.\n",
    "- Embedding: Representação vetorial das palavras-chave.\n",
    "- Sentiment Analysis: Análise de sentimento das narrativas."
   ]
  },
  {
   "cell_type": "markdown",
   "metadata": {},
   "source": [
    "# Batching API\n",
    "\n",
    "- Sugestão para redução de custos no uso das apis.\n",
    "\n",
    "https://platform.openai.com/docs/guides/batch/overview"
   ]
  },
  {
   "cell_type": "markdown",
   "metadata": {},
   "source": [
    "### APIs da Open AI\n",
    "\n",
    "ref: https://platform.openai.com/docs/overview\n",
    "\n",
    "Os modelos usados serão:\n",
    "\n",
    "embedding\n",
    "analise de sentimento\n",
    "obter dados de zip code e company\n",
    "\n",
    "----\n",
    "\n",
    "A forma usual de convocar a API é:\n",
    "\n",
    "Referencia entre modelo antigo e novo: https://github.com/openai/openai-python/discussions/742"
   ]
  },
  {
   "cell_type": "markdown",
   "metadata": {},
   "source": [
    "Esse é um projeto desafiador e bastante interessante! Vamos estruturar as etapas que precisamos seguir para alcançar nossos objetivos.\n",
    "\n",
    "### 1. Coleta e Entendimento dos Dados\n",
    "Primeiro, precisamos obter os dados do **Consumer Financial Protection Bureau (CFPB)**. Esses dados geralmente contêm informações detalhadas sobre reclamações de clientes, incluindo o tipo de produto, empresa, data da reclamação, status da reclamação, e o feedback do cliente.\n",
    "\n",
    "### 2. Pré-processamento dos Dados\n",
    "O pré-processamento é crucial, especialmente quando lidamos com Big Data. Precisamos realizar as seguintes tarefas:\n",
    "\n",
    "- **Tratamento de valores ausentes**: Substituir ou descartar dados faltantes.\n",
    "- **Normalização e padronização**: Ajustar os dados para que fiquem em uma escala semelhante.\n",
    "- **Conversão de variáveis categóricas**: Transformar variáveis categóricas em numéricas (por exemplo, usando one-hot encoding).\n",
    "- **Criação de novas variáveis**: Analisar o texto das reclamações para extrair insights. Por exemplo:\n",
    "  - **Sentiment Analysis**: Criar uma variável de sentimento.\n",
    "  - **Text Features**: Extrair palavras-chave ou temas frequentes.\n",
    "- **Feature Engineering**: Criar novas variáveis que possam capturar tendências ou padrões escondidos nos dados.\n",
    "\n",
    "### 3. Exploração dos Dados (EDA)\n",
    "Antes de construir qualquer modelo, precisamos explorar os dados:\n",
    "\n",
    "- **Análise de distribuição**: Verificar a distribuição das variáveis.\n",
    "- **Correlação**: Identificar correlações entre as variáveis.\n",
    "- **Identificação de outliers**: Detectar e tratar valores anômalos.\n",
    "\n",
    "### 4. Construção dos Modelos de Previsão\n",
    "Para atingir nossos objetivos, vamos dividir os modelos em dois problemas de classificação:\n",
    "\n",
    "#### a) Previsão de Propensão à Compra de Mais Produtos\n",
    "- **Modelos sugeridos**: Random Forest, Gradient Boosting, ou Redes Neurais.\n",
    "- **Variáveis-alvo**: Podemos criar uma variável binária que indique se o cliente realizou uma nova compra dentro de um determinado período após a reclamação.\n",
    "\n",
    "#### b) Previsão de Propensão a Processar a Empresa\n",
    "- **Modelos sugeridos**: Logistic Regression, SVM, ou XGBoost.\n",
    "- **Variáveis-alvo**: Criar uma variável binária baseada no desfecho da reclamação (se houve processo judicial ou não).\n",
    "\n",
    "### 5. Avaliação dos Modelos\n",
    "Avaliaremos os modelos usando:\n",
    "\n",
    "- **Métricas de desempenho**: Acurácia, Precisão, Recall, F1-score, AUC-ROC.\n",
    "- **Validação cruzada**: Para garantir a generalização dos modelos.\n",
    "\n",
    "### 6. Implementação em Produção\n",
    "Após treinar e validar os modelos, o próximo passo é implementar um pipeline que permita processar novas reclamações em tempo real ou em batches, e prever as probabilidades associadas.\n",
    "\n",
    "### 7. Monitoramento e Manutenção\n",
    "Finalmente, devemos monitorar a performance dos modelos em produção e atualizar os modelos regularmente com novos dados para garantir a acurácia ao longo do tempo.\n",
    "\n",
    "### Próximos Passos\n",
    "- **Obter e explorar a base de dados**.\n",
    "- **Definir as variáveis-alvo** e começar o pré-processamento.\n",
    "- **Desenvolver e testar os modelos de previsão**.\n",
    "\n",
    "Se você já tem os dados, podemos começar pelo pré-processamento e análise exploratória. Se precisar de ajuda para baixar os dados ou se já tem alguma parte pronta, posso ajudar a continuar o desenvolvimento!\n"
   ]
  },
  {
   "cell_type": "markdown",
   "metadata": {},
   "source": [
    "# # **Data Cleaning**\n"
   ]
  },
  {
   "cell_type": "markdown",
   "metadata": {},
   "source": [
    "\n",
    "|Notebook| Variáveis                        | Descrição                                            | Transformação                                         |\n",
    "|--------|-------------------------------|------------------------------------------------------|------------------------------------------------------|\n",
    "|data-cleaning| Complaint ID                   | ID da reclamação                                    | Manter como está.                                                    |\n",
    "|data-cleaning| Timely response?               | Resposta oportuna                                   | Remover pois é variável desnecessária ao projeto.                                                    |\n",
    "|data-cleaning| Date sent to company           | Data em que a reclamação foi enviada para a empresa | Remover pois é variável desnecessária ao projeto.                                                    |\n",
    "|data-cleaning| Submitted via                  | Forma de envio da reclamação                        | Remover do trabalho pois todas as narrativas foram enviadas via web                                                     |\n",
    "|data-cleaning| Consumer consent provided?     | Consentimento do consumidor fornecido              | Remover pois no sub-conjunto de interesse o consetimento foi fornecido sempre.      |    \n",
    "|data-cleaning| Date received                  | Data em que a reclamação foi recebida               | Transformar em dia, mês e ano.                                  |\n",
    "|one-hot encoding| Product                        | Produto financeiro ou serviço                       | Aplicar one-hot encoding (12 categorias) |\n",
    "|one-hot encoding| Sub-product                    | Subproduto financeiro ou serviço                    | Criar variável agrupada grouped_sub_product (11 categorias) e então aplicar one-hot encoding. |\n",
    "|one-hot encoding| Issue                          | Problema relatado pelo consumidor                   | Criar variável agrupada grouped_issue (10 categorias) e então aplicar one-hot encoding. |\n",
    "|one-hot encoding| Sub-issue                      | Subproblema relatado pelo consumidor                | Manter como está.  |\n",
    "|one-hot encoding| State                          | Estado do consumidor                                | one-hot encoding                                            |\n",
    "|one-hot encoding| Company public response        | Resposta pública da empresa                         | one-hot encoding                                            |\n",
    "|one-hot encoding| Tags                           | Tags relacionadas à reclamação                     | one-hot encoding                                                     |                                                 |\n",
    "|one-hot encoding| Consumer disputed?             | Consumidor contestou a resposta                     | one-hot encoding                   |\n",
    "|data-enrichment| Consumer complaint narrative   | Descrição da reclamação                             | Extrair score de sentimento, palavras-chave e embedding. |\n",
    "|data-enrichment| Company                        | Empresa envolvida na reclamação                    | Extrair dados de interesse da companhia                                                    |\n",
    "|data-enrichment| ZIP code                       | Código postal do consumidor                        | Extrair dados de interesse do Zip code. Eliminar zip code inválido                                 |\n",
    "|data-enrichment| Company response to consumer   | Resposta da empresa ao consumidor                   | Variável chave para o modelo supervionado. Criar nova variável que irá dizer se houve pagamento de indenizações ou não |\n"
   ]
  },
  {
   "cell_type": "markdown",
   "metadata": {},
   "source": [
    "# # **Criação de Variáveis**\n",
    "\n",
    "\n",
    "| Variáveis                        | Descrição                                            \n",
    "|-------------------------------|------------------------------------------------------\n",
    "| Sentiment                     | Score de sentimento da reclamação\n",
    "| Embedding                     | Vetor de embedding da reclamação                                                    \n",
    "| Company size                   | Tamanho da empresa. Empresas maiores podem ter mais recursos para resolver reclamações rapidamente, o que pode reduzir a probabilidade de indenizações. pequena, média ou grande. Aplicar one-hot encoding.                                                   \n",
    "| Company market                 | Área de atuação da empresa. Empresas de setores diferentes têm produtos e serviços distintos, o que pode afetar tanto a probabilidade de venda de serviços adicionais quanto o tipo e gravidade das reclamações. Definir categorias de mercado e aplicar one-hot encoding.\n",
    "| Company product diversity     | Empresas com alta diversificação de produtos podem oferecer mais opções de upsell para seus clientes. Alta, média baixa.  Aplicar one-hot encoding.      \n",
    "| Company response time         | Empresas com tempos de resposta mais rápidos podem ter menos reclamações. Definir categorias de tempo de resposta e aplicar one-hot encoding.\n",
    "| Company response quality      | Empresas com respostas de alta qualidade podem ter menos reclamações. Definir categorias de qualidade de resposta e aplicar one-hot encoding.\n",
    "| Company response satisfaction | Empresas com respostas satisfatórias podem ter menos reclamações. Definir categorias de satisfação de resposta e aplicar one-hot encoding.\n",
    "| Company response resolution   | Empresas com resoluções rápidas podem ter menos reclamações. Definir categorias de resolução de resposta e aplicar one-hot encoding.                                           \n",
    "| Zip average education           | Áreas com maior nível educacional podem ter consumidores mais exigentes ou conscientes de seus direitos, influenciando a propensão a processar ou comprar produtos complexos. Categorias: baixo, médio e alto. Aplicar one-hot encoding.\n",
    "| Zip average onwnership | Áreas com alta propriedade de imóveis podem ter consumidores mais estáveis financeiramente, o que pode afetar a propensão a comprar produtos financeiros específicos, como hipotecas ou seguros. Categorias: baixo, médio e alto. Aplicar one-hot encoding.\n",
    "| Zip life expectancy | Áreas com alta expectativa de vida podem ter consumidores mais velhos, que podem ter mais propensão a comprar produtos financeiros específicos, como seguros de vida ou planos de aposentadoria. Valor contínuo.\n",
    "| Zip average income | Áreas com alta renda média podem ter consumidores mais propensos a comprar produtos financeiros específicos, como investimentos ou seguros de vida. Categoria: baixo, médio e alto. Aplicar one-hot encoding.\n",
    "| Zip average age | Áreas com alta idade média podem ter consumidores mais velhos, que podem ter mais propensão a comprar produtos financeiros específicos, como seguros de vida ou planos de aposentadoria. Valor contínuo.\n",
    "| Zip bank services access | Áreas com maior acesso a serviços bancários podem ter consumidores mais propensos a comprar produtos financeiros específicos, como investimentos ou seguros de vida. Categoria: baixo, médio e alto. Aplicar one-hot encoding.\n",
    "| Zip crime rate | Áreas com alta taxa de criminalidade podem ter consumidores mais propensos a comprar produtos financeiros específicos, como seguros de vida ou planos de aposentadoria. Categoria: baixo, médio e alto. Aplicar one-hot encoding.\n",
    "| Zip unemployment rate | Áreas com alta taxa de desemprego podem ter consumidores mais propensos a comprar produtos financeiros específicos, como seguros de vida ou planos de aposentadoria. Categoria: baixo, médio e alto. Aplicar one-hot encoding.\n",
    "| Zip population density | Áreas com alta densidade populacional podem ter consumidores mais propensos a comprar produtos financeiros específicos, como investimentos ou seguros de vida. Categoria: baixo, médio e alto. Aplicar one-hot encoding.\n",
    "| Zip etnicity | Áreas com alta diversidade étnica podem ter consumidores mais propensos a comprar produtos financeiros específicos, como seguros de vida ou planos de aposentadoria. Baeado no grupo étnico majoritário. Aplicar one-hot encoding."
   ]
  },
  {
   "cell_type": "markdown",
   "metadata": {},
   "source": []
  }
 ],
 "metadata": {
  "language_info": {
   "name": "python"
  }
 },
 "nbformat": 4,
 "nbformat_minor": 2
}
