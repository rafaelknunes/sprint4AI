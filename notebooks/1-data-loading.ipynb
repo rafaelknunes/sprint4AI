{
 "cells": [
  {
   "cell_type": "markdown",
   "metadata": {},
   "source": [
    "# **Dataset Loading**\n",
    "\n",
    "# # **Objetivo desta Etapa**\n",
    "\n",
    "Nesta etapa vamos carregar os dados originais e criar um arquivo pickle para facilitar futuras importações.\n",
    "\n",
    "São 18 variáveis e 5.141.512 registros.\n",
    "\n",
    "# # **Explicação do Dataset**\n",
    "\n",
    "A base de dados foi obtida a partir do **Consumer Financial Protection Bureau (CFPB)**. Esses dados são referentes a reclamações de consumidores sobre produtos financeiros e serviços. O CFPB é uma agência independente do governo dos Estados Unidos responsável por proteger os consumidores no setor financeiro.\n",
    "\n",
    "O site para obter o download é: https://www.consumerfinance.gov/data-research/consumer-complaints/\n",
    "\n",
    "O arquivo baixado é um arquivo CSV (complaints.csv) que contém as seguintes colunas:\n",
    "\n",
    "- Date received: data em que a reclamação foi recebida\n",
    "- Product: produto financeiro ou serviço\n",
    "- Sub-product: subproduto financeiro ou serviço\n",
    "- Issue: problema relatado pelo consumidor\n",
    "- Sub-issue: subproblema relatado pelo consumidor\n",
    "- Consumer complaint narrative: descrição da reclamação\n",
    "- Company public response: resposta pública da empresa\n",
    "- Company: empresa envolvida na reclamação\n",
    "- State: estado do consumidor\n",
    "- ZIP code: código postal do consumidor\n",
    "- Tags: tags relacionadas à reclamação\n",
    "- Consumer consent provided: consentimento do consumidor fornecido\n",
    "- Submitted via: forma de envio da reclamação\n",
    "- Date sent to company: data em que a reclamação foi enviada para a empresa\n",
    "- Company response to consumer: resposta da empresa ao consumidor\n",
    "- Timely response: resposta oportuna\n",
    "- Consumer disputed: consumidor contestado\n",
    "- Complaint ID: ID da reclamação\n",
    "\n"
   ]
  },
  {
   "cell_type": "markdown",
   "metadata": {},
   "source": [
    "---"
   ]
  },
  {
   "cell_type": "markdown",
   "metadata": {},
   "source": [
    "# # **Carregando o Dataset**"
   ]
  },
  {
   "cell_type": "code",
   "execution_count": 1,
   "metadata": {},
   "outputs": [],
   "source": [
    "import pandas as pd\n",
    "\n",
    "# Isso carrega o CSV em pedaços menores e tenta inferir os tipos de dados com mais precisão. No entanto, pode consumir mais memória.\n",
    "df = pd.read_csv('../dataset/original/complaints.csv', low_memory=False)\n",
    "\n",
    "df.shape"
   ]
  },
  {
   "cell_type": "markdown",
   "metadata": {},
   "source": [
    "# # **Criando Pickle**\n",
    "\n"
   ]
  },
  {
   "cell_type": "code",
   "execution_count": 2,
   "metadata": {},
   "outputs": [],
   "source": [
    "df.to_pickle(\"./pickle/df_original.pkl\")"
   ]
  }
 ],
 "metadata": {
  "kernelspec": {
   "display_name": "Python 3",
   "language": "python",
   "name": "python3"
  },
  "language_info": {
   "codemirror_mode": {
    "name": "ipython",
    "version": 3
   },
   "file_extension": ".py",
   "mimetype": "text/x-python",
   "name": "python",
   "nbconvert_exporter": "python",
   "pygments_lexer": "ipython3",
   "version": "3.11.2"
  }
 },
 "nbformat": 4,
 "nbformat_minor": 2
}
