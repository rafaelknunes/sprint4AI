{
 "cells": [
  {
   "cell_type": "markdown",
   "metadata": {},
   "source": [
    "# **Data Final Processing**\n",
    "\n",
    "Nesta etapa iremos vamos preparar nosso dataset para ser utilizado no treinamento do modelo. "
   ]
  },
  {
   "cell_type": "markdown",
   "metadata": {},
   "source": [
    "---"
   ]
  },
  {
   "cell_type": "markdown",
   "metadata": {},
   "source": [
    "# # **Importando Pickle da Etapa Anterior**"
   ]
  },
  {
   "cell_type": "code",
   "execution_count": 1,
   "metadata": {},
   "outputs": [
    {
     "data": {
      "text/plain": [
       "(4812, 137)"
      ]
     },
     "execution_count": 1,
     "metadata": {},
     "output_type": "execute_result"
    }
   ],
   "source": [
    "import pandas as pd\n",
    "\n",
    "df = pd.read_pickle('./pickle/df_sales.pkl')\n",
    "\n",
    "df.shape"
   ]
  },
  {
   "cell_type": "code",
   "execution_count": 2,
   "metadata": {},
   "outputs": [
    {
     "data": {
      "text/plain": [
       "Index(['Date received', 'Sub-product', 'Issue', 'Sub-issue',\n",
       "       'Consumer complaint narrative', 'Company', 'ZIP code',\n",
       "       'Company response to consumer', 'Complaint ID', 'Date received Day',\n",
       "       ...\n",
       "       'Tags_Servicemember', 'Consumer disputed?_No',\n",
       "       'Consumer disputed?_Not provided', 'Consumer disputed?_Yes',\n",
       "       'Complaint embedding', 'Complaint sentiment', 'Suggested Category',\n",
       "       'Suggested Product/Service', 'Potential Annual Revenue',\n",
       "       'Suggested Reasoning'],\n",
       "      dtype='object', length=137)"
      ]
     },
     "execution_count": 2,
     "metadata": {},
     "output_type": "execute_result"
    }
   ],
   "source": [
    "df.columns"
   ]
  },
  {
   "cell_type": "markdown",
   "metadata": {},
   "source": [
    "---\n",
    "\n",
    "# # **Data Final Adjustments**\n",
    "\n",
    "## ## **Criar Variável Chave para Modelo de Previsão de Indenização**"
   ]
  },
  {
   "cell_type": "code",
   "execution_count": 3,
   "metadata": {},
   "outputs": [
    {
     "data": {
      "text/plain": [
       "(Company payed monetary relief\n",
       " False    2448\n",
       " True     2364\n",
       " Name: count, dtype: int64,\n",
       " (4812, 138))"
      ]
     },
     "execution_count": 3,
     "metadata": {},
     "output_type": "execute_result"
    }
   ],
   "source": [
    "import pandas as pd\n",
    "\n",
    "df['Company payed monetary relief'] = df['Company response to consumer'].apply(lambda x: True if x == 'Closed with monetary relief' else False)\n",
    "\n",
    "df['Company payed monetary relief'].value_counts(), df.shape\n"
   ]
  },
  {
   "cell_type": "markdown",
   "metadata": {},
   "source": [
    "## ## **Removendo Registros Nulos**\n",
    "\n",
    "- Se em qualquer coluna o registro for nulo, o registro inteiro será removido."
   ]
  },
  {
   "cell_type": "code",
   "execution_count": null,
   "metadata": {},
   "outputs": [],
   "source": [
    "# Contar o número de linhas antes de remover os nulos\n",
    "linhas_antes = len(df)\n",
    "\n",
    "# Remover as linhas que contêm valores nulos em qualquer coluna\n",
    "df = df.dropna()\n",
    "\n",
    "# Contar o número de linhas após remover os nulos\n",
    "linhas_depois = len(df)\n",
    "\n",
    "# Calcular o número de registros removidos\n",
    "registros_removidos = linhas_antes - linhas_depois\n",
    "\n",
    "# Exibir a quantidade de registros removidos\n",
    "print(f\"Número de registros removidos: {registros_removidos}\")\n"
   ]
  },
  {
   "cell_type": "markdown",
   "metadata": {},
   "source": [
    "---"
   ]
  },
  {
   "cell_type": "code",
   "execution_count": 4,
   "metadata": {},
   "outputs": [],
   "source": [
    "df.to_excel('./excel/df_processed.xlsx', index=False)"
   ]
  },
  {
   "cell_type": "code",
   "execution_count": 5,
   "metadata": {},
   "outputs": [],
   "source": [
    "df.to_pickle(\"./pickle/df_processed.pkl\")"
   ]
  },
  {
   "cell_type": "code",
   "execution_count": 6,
   "metadata": {},
   "outputs": [
    {
     "name": "stdout",
     "output_type": "stream",
     "text": [
      "Notebook Final Processing Concluído\n"
     ]
    }
   ],
   "source": [
    "print(\"Notebook Final Processing Concluído\")"
   ]
  }
 ],
 "metadata": {
  "kernelspec": {
   "display_name": "Python 3",
   "language": "python",
   "name": "python3"
  },
  "language_info": {
   "codemirror_mode": {
    "name": "ipython",
    "version": 3
   },
   "file_extension": ".py",
   "mimetype": "text/x-python",
   "name": "python",
   "nbconvert_exporter": "python",
   "pygments_lexer": "ipython3",
   "version": "3.11.2"
  }
 },
 "nbformat": 4,
 "nbformat_minor": 2
}
